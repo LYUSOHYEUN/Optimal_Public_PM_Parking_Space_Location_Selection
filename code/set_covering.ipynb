{
 "cells": [
  {
   "cell_type": "markdown",
   "metadata": {},
   "source": [
    "# 1. Préparation"
   ]
  },
  {
   "cell_type": "code",
   "execution_count": 1,
   "metadata": {},
   "outputs": [],
   "source": [
    "import pandas as pd\n",
    "import pulp\n",
    "import numpy as np\n",
    "from scipy.spatial.distance import cdist\n",
    "from scipy.optimize import linear_sum_assignment\n",
    "import geopandas as gpd\n",
    "from shapely.geometry import Point\n",
    "from pyproj import Proj, transform\n"
   ]
  },
  {
   "cell_type": "code",
   "execution_count": 2,
   "metadata": {},
   "outputs": [],
   "source": [
    "\n",
    "import pandas as pd\n",
    "import numpy as np\n",
    "from scipy.spatial.distance import cdist\n",
    "from scipy.optimize import linear_sum_assignment\n",
    "\n",
    "# 데이터 로드\n",
    "\n",
    "data = pd.read_csv('최종레이블 유동견인 등급 및 UTM좌표 포함.csv')\n"
   ]
  },
  {
   "cell_type": "code",
   "execution_count": 3,
   "metadata": {},
   "outputs": [
    {
     "data": {
      "text/html": [
       "<div>\n",
       "<style scoped>\n",
       "    .dataframe tbody tr th:only-of-type {\n",
       "        vertical-align: middle;\n",
       "    }\n",
       "\n",
       "    .dataframe tbody tr th {\n",
       "        vertical-align: top;\n",
       "    }\n",
       "\n",
       "    .dataframe thead th {\n",
       "        text-align: right;\n",
       "    }\n",
       "</style>\n",
       "<table border=\"1\" class=\"dataframe\">\n",
       "  <thead>\n",
       "    <tr style=\"text-align: right;\">\n",
       "      <th></th>\n",
       "      <th>Unnamed: 0</th>\n",
       "      <th>id</th>\n",
       "      <th>행정동</th>\n",
       "      <th>centroid_x</th>\n",
       "      <th>centroid_y</th>\n",
       "      <th>클러스터링</th>\n",
       "      <th>유동인구</th>\n",
       "      <th>견인횟수</th>\n",
       "      <th>유동인구_레이블</th>\n",
       "      <th>견인횟수_레이블</th>\n",
       "      <th>score</th>\n",
       "      <th>유동인구+견인횟수</th>\n",
       "    </tr>\n",
       "  </thead>\n",
       "  <tbody>\n",
       "    <tr>\n",
       "      <th>0</th>\n",
       "      <td>0</td>\n",
       "      <td>1575</td>\n",
       "      <td>화양동</td>\n",
       "      <td>963184.792317</td>\n",
       "      <td>1.949185e+06</td>\n",
       "      <td>0</td>\n",
       "      <td>323.728395</td>\n",
       "      <td>1.0</td>\n",
       "      <td>2</td>\n",
       "      <td>1</td>\n",
       "      <td>130.091358</td>\n",
       "      <td>7.0</td>\n",
       "    </tr>\n",
       "    <tr>\n",
       "      <th>1</th>\n",
       "      <td>1</td>\n",
       "      <td>1575</td>\n",
       "      <td>화양동</td>\n",
       "      <td>963184.792317</td>\n",
       "      <td>1.949185e+06</td>\n",
       "      <td>0</td>\n",
       "      <td>323.728395</td>\n",
       "      <td>1.0</td>\n",
       "      <td>2</td>\n",
       "      <td>1</td>\n",
       "      <td>130.091358</td>\n",
       "      <td>4.0</td>\n",
       "    </tr>\n",
       "    <tr>\n",
       "      <th>2</th>\n",
       "      <td>2</td>\n",
       "      <td>1575</td>\n",
       "      <td>화양동</td>\n",
       "      <td>963184.792317</td>\n",
       "      <td>1.949185e+06</td>\n",
       "      <td>0</td>\n",
       "      <td>323.728395</td>\n",
       "      <td>1.0</td>\n",
       "      <td>2</td>\n",
       "      <td>1</td>\n",
       "      <td>130.091358</td>\n",
       "      <td>2.0</td>\n",
       "    </tr>\n",
       "    <tr>\n",
       "      <th>3</th>\n",
       "      <td>3</td>\n",
       "      <td>1404</td>\n",
       "      <td>화양동</td>\n",
       "      <td>962924.984696</td>\n",
       "      <td>1.949235e+06</td>\n",
       "      <td>0</td>\n",
       "      <td>0.000000</td>\n",
       "      <td>0.0</td>\n",
       "      <td>2</td>\n",
       "      <td>1</td>\n",
       "      <td>0.000000</td>\n",
       "      <td>7.0</td>\n",
       "    </tr>\n",
       "    <tr>\n",
       "      <th>4</th>\n",
       "      <td>4</td>\n",
       "      <td>1405</td>\n",
       "      <td>화양동</td>\n",
       "      <td>962924.984696</td>\n",
       "      <td>1.949135e+06</td>\n",
       "      <td>0</td>\n",
       "      <td>0.000000</td>\n",
       "      <td>0.0</td>\n",
       "      <td>2</td>\n",
       "      <td>1</td>\n",
       "      <td>0.000000</td>\n",
       "      <td>7.0</td>\n",
       "    </tr>\n",
       "  </tbody>\n",
       "</table>\n",
       "</div>"
      ],
      "text/plain": [
       "   Unnamed: 0    id  행정동     centroid_x    centroid_y  클러스터링        유동인구  \\\n",
       "0           0  1575  화양동  963184.792317  1.949185e+06      0  323.728395   \n",
       "1           1  1575  화양동  963184.792317  1.949185e+06      0  323.728395   \n",
       "2           2  1575  화양동  963184.792317  1.949185e+06      0  323.728395   \n",
       "3           3  1404  화양동  962924.984696  1.949235e+06      0    0.000000   \n",
       "4           4  1405  화양동  962924.984696  1.949135e+06      0    0.000000   \n",
       "\n",
       "   견인횟수  유동인구_레이블  견인횟수_레이블       score  유동인구+견인횟수  \n",
       "0   1.0         2         1  130.091358        7.0  \n",
       "1   1.0         2         1  130.091358        4.0  \n",
       "2   1.0         2         1  130.091358        2.0  \n",
       "3   0.0         2         1    0.000000        7.0  \n",
       "4   0.0         2         1    0.000000        7.0  "
      ]
     },
     "execution_count": 3,
     "metadata": {},
     "output_type": "execute_result"
    }
   ],
   "source": [
    "data.head()"
   ]
  },
  {
   "cell_type": "code",
   "execution_count": 4,
   "metadata": {},
   "outputs": [
    {
     "name": "stdout",
     "output_type": "stream",
     "text": [
      "레이블 조합별 클러스터별 헥사곤 개수\n",
      "    유동인구+견인횟수  클러스터링   개수\n",
      "0         1.0      0  130\n",
      "1         1.0      1  237\n",
      "2         1.0      2  103\n",
      "3         1.0      3   30\n",
      "4         2.0      0  134\n",
      "5         2.0      1  148\n",
      "6         2.0      2   21\n",
      "7         2.0      3  125\n",
      "8         3.0      0   45\n",
      "9         3.0      1   26\n",
      "10        3.0      2   14\n",
      "11        4.0      0  358\n",
      "12        4.0      1  263\n",
      "13        4.0      2   45\n",
      "14        4.0      3   22\n",
      "15        6.0      0    8\n",
      "16        6.0      1   56\n",
      "17        6.0      2   11\n",
      "18        7.0      0  190\n",
      "19        7.0      1   25\n",
      "20        7.0      2   39\n",
      "21        7.0      3    9\n",
      "22        8.0      0   38\n",
      "23        8.0      1    6\n",
      "24        8.0      2    6\n",
      "25        8.0      3    1\n",
      "\n",
      "레이블 조합별 클러스터별 헥사곤 개수\n",
      "   유동인구+견인횟수   개수\n",
      "0        1.0  500\n",
      "1        2.0  428\n",
      "2        3.0   85\n",
      "3        4.0  688\n",
      "4        6.0   75\n",
      "5        7.0  263\n",
      "6        8.0   51\n"
     ]
    }
   ],
   "source": [
    "\n",
    "\n",
    "# 각 레이블 조합과 클러스터링 별로 개수 집계\n",
    "count_per_label_cluster = data.groupby(['유동인구+견인횟수','클러스터링']).size().reset_index(name='개수')\n",
    "count_per_label = data.groupby(['유동인구+견인횟수']).size().reset_index(name='개수')\n",
    "\n",
    "print('레이블 조합별 클러스터별 헥사곤 개수')\n",
    "print(count_per_label_cluster)\n",
    "print('')\n",
    "print('레이블 조합별 클러스터별 헥사곤 개수')\n",
    "print(count_per_label)"
   ]
  },
  {
   "cell_type": "markdown",
   "metadata": {},
   "source": [
    "# Analysis"
   ]
  },
  {
   "cell_type": "markdown",
   "metadata": {},
   "source": [
    "## 주차장 할당 최적화 모델 구축"
   ]
  },
  {
   "cell_type": "code",
   "execution_count": 5,
   "metadata": {},
   "outputs": [
    {
     "data": {
      "text/plain": [
       "'\\n# 문제 인스턴스 생성\\nmodel = pulp.LpProblem(\"Enhanced_Parking_Allocation\", pulp.LpMinimize)\\n\\n# 클러스터 및 레이블 조합별 변수 생성\\nparking_vars = pulp.LpVariable.dicts(\"Park\",\\n                                     [(i, j) for i in data[\\'클러스터링\\'].unique() for j in range(4)],\\n                                     lowBound=0, cat=\\'Integer\\')\\n\\n# 목표 함수 설정: 주차장 수 최소화, 레이블 가중치 반영\\n    #(4-j)의 경우 레이블 등급에 따른 가중치 부여하는 과정(0등급일수록 높은 등급)\\nmodel += pulp.lpSum([parking_vars[i, j] * (4-j) for i in data[\\'클러스터링\\'].unique() for j in range(4)])\\n\\n# 제약 조건 설정\\nfor i in data[\\'클러스터링\\'].unique():\\n    for j in range(4):\\n        # 각 클러스터와 유동인구 레이블 조합별로 데이터 포인트의 수를 계산\\n        data_points_count = data[(data[\\'클러스터링\\'] == i) & (data[\\'유동인구+견인횟수\\'] == j)][\\'id\\'].count()\\n        # 헥사곤 5개당 최소 1개 주차장으로 비율 설정\\n        required_parking_spots = data_points_count / 5\\n        # 모델에 제약 조건 추가\\n        model += parking_vars[i, j] >= required_parking_spots\\n\\n\\n\\n# 문제 해결\\nmodel.solve()\\n\\n# 결과 출력\\nprint(\"Status:\", pulp.LpStatus[model.status])\\nfor i in data[\\'클러스터링\\'].unique():\\n    for j in range(4):\\n        print(f\"Cluster {i}, Label {j}: Allocate {parking_vars[i, j].varValue} parking spots.\")\\n'"
      ]
     },
     "execution_count": 5,
     "metadata": {},
     "output_type": "execute_result"
    }
   ],
   "source": [
    "'''\n",
    "# 문제 인스턴스 생성\n",
    "model = pulp.LpProblem(\"Enhanced_Parking_Allocation\", pulp.LpMinimize)\n",
    "\n",
    "# 클러스터 및 레이블 조합별 변수 생성\n",
    "parking_vars = pulp.LpVariable.dicts(\"Park\",\n",
    "                                     [(i, j) for i in data['클러스터링'].unique() for j in range(4)],\n",
    "                                     lowBound=0, cat='Integer')\n",
    "\n",
    "# 목표 함수 설정: 주차장 수 최소화, 레이블 가중치 반영\n",
    "    #(4-j)의 경우 레이블 등급에 따른 가중치 부여하는 과정(0등급일수록 높은 등급)\n",
    "model += pulp.lpSum([parking_vars[i, j] * (4-j) for i in data['클러스터링'].unique() for j in range(4)])\n",
    "\n",
    "# 제약 조건 설정\n",
    "for i in data['클러스터링'].unique():\n",
    "    for j in range(4):\n",
    "        # 각 클러스터와 유동인구 레이블 조합별로 데이터 포인트의 수를 계산\n",
    "        data_points_count = data[(data['클러스터링'] == i) & (data['유동인구+견인횟수'] == j)]['id'].count()\n",
    "        # 헥사곤 5개당 최소 1개 주차장으로 비율 설정\n",
    "        required_parking_spots = data_points_count / 5\n",
    "        # 모델에 제약 조건 추가\n",
    "        model += parking_vars[i, j] >= required_parking_spots\n",
    "\n",
    "\n",
    "\n",
    "# 문제 해결\n",
    "model.solve()\n",
    "\n",
    "# 결과 출력\n",
    "print(\"Status:\", pulp.LpStatus[model.status])\n",
    "for i in data['클러스터링'].unique():\n",
    "    for j in range(4):\n",
    "        print(f\"Cluster {i}, Label {j}: Allocate {parking_vars[i, j].varValue} parking spots.\")\n",
    "'''"
   ]
  },
  {
   "cell_type": "code",
   "execution_count": 6,
   "metadata": {},
   "outputs": [
    {
     "ename": "NameError",
     "evalue": "name 'parking_vars' is not defined",
     "output_type": "error",
     "traceback": [
      "\u001b[0;31m---------------------------------------------------------------------------\u001b[0m",
      "\u001b[0;31mNameError\u001b[0m                                 Traceback (most recent call last)",
      "Cell \u001b[0;32mIn[6], line 5\u001b[0m\n\u001b[1;32m      2\u001b[0m model \u001b[38;5;241m=\u001b[39m pulp\u001b[38;5;241m.\u001b[39mLpProblem(\u001b[38;5;124m\"\u001b[39m\u001b[38;5;124mBalanced_Parking_Allocation\u001b[39m\u001b[38;5;124m\"\u001b[39m, pulp\u001b[38;5;241m.\u001b[39mLpMinimize)\n\u001b[1;32m      4\u001b[0m \u001b[38;5;66;03m# 목표 함수와 변수 재설정: 등급 차이를 줄이는 가중치 조정\u001b[39;00m\n\u001b[0;32m----> 5\u001b[0m model \u001b[38;5;241m+\u001b[39m\u001b[38;5;241m=\u001b[39m pulp\u001b[38;5;241m.\u001b[39mlpSum(\u001b[43m[\u001b[49m\u001b[43mparking_vars\u001b[49m\u001b[43m[\u001b[49m\u001b[43mi\u001b[49m\u001b[43m,\u001b[49m\u001b[43m \u001b[49m\u001b[43mj\u001b[49m\u001b[43m]\u001b[49m\u001b[43m \u001b[49m\u001b[38;5;241;43m*\u001b[39;49m\u001b[43m \u001b[49m\u001b[43m(\u001b[49m\u001b[38;5;241;43m1\u001b[39;49m\u001b[43m \u001b[49m\u001b[38;5;241;43m+\u001b[39;49m\u001b[43m \u001b[49m\u001b[43m(\u001b[49m\u001b[38;5;241;43m7\u001b[39;49m\u001b[38;5;241;43m-\u001b[39;49m\u001b[43mj\u001b[49m\u001b[43m)\u001b[49m\u001b[38;5;241;43m/\u001b[39;49m\u001b[38;5;241;43m10\u001b[39;49m\u001b[43m)\u001b[49m\u001b[43m \u001b[49m\u001b[38;5;28;43;01mfor\u001b[39;49;00m\u001b[43m \u001b[49m\u001b[43mi\u001b[49m\u001b[43m \u001b[49m\u001b[38;5;129;43;01min\u001b[39;49;00m\u001b[43m \u001b[49m\u001b[43mdata\u001b[49m\u001b[43m[\u001b[49m\u001b[38;5;124;43m'\u001b[39;49m\u001b[38;5;124;43m클러스터링\u001b[39;49m\u001b[38;5;124;43m'\u001b[39;49m\u001b[43m]\u001b[49m\u001b[38;5;241;43m.\u001b[39;49m\u001b[43munique\u001b[49m\u001b[43m(\u001b[49m\u001b[43m)\u001b[49m\u001b[43m \u001b[49m\u001b[38;5;28;43;01mfor\u001b[39;49;00m\u001b[43m \u001b[49m\u001b[43mj\u001b[49m\u001b[43m \u001b[49m\u001b[38;5;129;43;01min\u001b[39;49;00m\u001b[43m \u001b[49m\u001b[38;5;28;43mrange\u001b[39;49m\u001b[43m(\u001b[49m\u001b[38;5;241;43m1\u001b[39;49m\u001b[43m,\u001b[49m\u001b[43m \u001b[49m\u001b[38;5;241;43m8\u001b[39;49m\u001b[43m)\u001b[49m\u001b[43m]\u001b[49m)\n\u001b[1;32m      7\u001b[0m \u001b[38;5;66;03m# 제약 조건: 각 레이블에 최소 하나의 주차장 할당 보장\u001b[39;00m\n\u001b[1;32m      8\u001b[0m \u001b[38;5;28;01mfor\u001b[39;00m i \u001b[38;5;129;01min\u001b[39;00m data[\u001b[38;5;124m'\u001b[39m\u001b[38;5;124m클러스터링\u001b[39m\u001b[38;5;124m'\u001b[39m]\u001b[38;5;241m.\u001b[39munique():\n",
      "Cell \u001b[0;32mIn[6], line 5\u001b[0m, in \u001b[0;36m<listcomp>\u001b[0;34m(.0)\u001b[0m\n\u001b[1;32m      2\u001b[0m model \u001b[38;5;241m=\u001b[39m pulp\u001b[38;5;241m.\u001b[39mLpProblem(\u001b[38;5;124m\"\u001b[39m\u001b[38;5;124mBalanced_Parking_Allocation\u001b[39m\u001b[38;5;124m\"\u001b[39m, pulp\u001b[38;5;241m.\u001b[39mLpMinimize)\n\u001b[1;32m      4\u001b[0m \u001b[38;5;66;03m# 목표 함수와 변수 재설정: 등급 차이를 줄이는 가중치 조정\u001b[39;00m\n\u001b[0;32m----> 5\u001b[0m model \u001b[38;5;241m+\u001b[39m\u001b[38;5;241m=\u001b[39m pulp\u001b[38;5;241m.\u001b[39mlpSum([\u001b[43mparking_vars\u001b[49m[i, j] \u001b[38;5;241m*\u001b[39m (\u001b[38;5;241m1\u001b[39m \u001b[38;5;241m+\u001b[39m (\u001b[38;5;241m7\u001b[39m\u001b[38;5;241m-\u001b[39mj)\u001b[38;5;241m/\u001b[39m\u001b[38;5;241m10\u001b[39m) \u001b[38;5;28;01mfor\u001b[39;00m i \u001b[38;5;129;01min\u001b[39;00m data[\u001b[38;5;124m'\u001b[39m\u001b[38;5;124m클러스터링\u001b[39m\u001b[38;5;124m'\u001b[39m]\u001b[38;5;241m.\u001b[39munique() \u001b[38;5;28;01mfor\u001b[39;00m j \u001b[38;5;129;01min\u001b[39;00m \u001b[38;5;28mrange\u001b[39m(\u001b[38;5;241m1\u001b[39m, \u001b[38;5;241m8\u001b[39m)])\n\u001b[1;32m      7\u001b[0m \u001b[38;5;66;03m# 제약 조건: 각 레이블에 최소 하나의 주차장 할당 보장\u001b[39;00m\n\u001b[1;32m      8\u001b[0m \u001b[38;5;28;01mfor\u001b[39;00m i \u001b[38;5;129;01min\u001b[39;00m data[\u001b[38;5;124m'\u001b[39m\u001b[38;5;124m클러스터링\u001b[39m\u001b[38;5;124m'\u001b[39m]\u001b[38;5;241m.\u001b[39munique():\n",
      "\u001b[0;31mNameError\u001b[0m: name 'parking_vars' is not defined"
     ]
    }
   ],
   "source": [
    "# 문제 인스턴스 재생성\n",
    "model = pulp.LpProblem(\"Balanced_Parking_Allocation\", pulp.LpMinimize)\n",
    "\n",
    "# 목표 함수와 변수 재설정: 등급 차이를 줄이는 가중치 조정\n",
    "model += pulp.lpSum([parking_vars[i, j] * (1 + (7-j)/10) for i in data['클러스터링'].unique() for j in range(1, 8)])\n",
    "\n",
    "# 제약 조건: 각 레이블에 최소 하나의 주차장 할당 보장\n",
    "for i in data['클러스터링'].unique():\n",
    "    for j in range(1, 8):\n",
    "        data_points_count = data[(data['클러스터링'] == i) & (data['유동인구+견인횟수'] == j)].shape[0]\n",
    "        required_parking_spots = max(1, data_points_count / 30)  # 30개 데이터 포인트 당 최소 1개 주차장\n",
    "        model += parking_vars[i, j] >= required_parking_spots\n",
    "\n",
    "        # 여기서 데이터 포인트는 특정 클러스터링 및 레이블 조합에 속하는 개별 관측치의 수를 의미\n",
    "        # 예를 들어, 클러스터 1, 레이블 2의 데이터 포인트 수는 해당 조합에 속하는 모든 관측치의 총 수\n",
    "\n",
    "# 최대 주차장 수 제약 유지\n",
    "model += pulp.lpSum([parking_vars[i, j] for i in data['클러스터링'].unique() for j in range(1, 8)]) <= 300\n",
    "\n",
    "# 문제 해결\n",
    "model.solve()\n",
    "\n",
    "# 결과 출력\n",
    "print(\"Status:\", pulp.LpStatus[model.status])\n",
    "for i in data['클러스터링'].unique():\n",
    "    for j in range(1, 8):\n",
    "        print(f\"Cluster {i}, Label {j}: Allocate {parking_vars[i, j].varValue} parking spots.\")\n",
    "\n"
   ]
  },
  {
   "cell_type": "markdown",
   "metadata": {},
   "source": [
    "## Set-Covering problem으로의 확장"
   ]
  },
  {
   "cell_type": "code",
   "execution_count": null,
   "metadata": {},
   "outputs": [
    {
     "data": {
      "text/plain": [
       "\"\\n# 각 클러스터별 상위 15개 위치 선정\\ntop_locations_per_cluster = data.groupby('클러스터링').apply(lambda x: x.nlargest(15, 'score'))\\n\\n# 위치 데이터 추출\\npositions = top_locations_per_cluster[['centroid_x', 'centroid_y']].to_numpy()\\n\\n# 거리 행렬 계산\\ndistance_matrix = cdist(positions, positions, metric='euclidean')\\n\\n# 거리 임곗값\\ncoverage_threshold_100m = 100  # 헥사곤 간의 거리를 반영해 100미터로 설정\\n\\n# 커버리지 행렬 생성 (1이면 해당 위치가 다른 위치를 커버)\\ncoverage_matrix_100m = (distance_matrix <= coverage_threshold_100m).astype(int)\\n\\n# 선형 할당 문제로 최적화 (헝가리안 알고리즘 사용, -1을 곱해 최대 커버리지를 추구)\\nrow_ind_100m, col_ind_100m = linear_sum_assignment(-coverage_matrix_100m)\\n\\n# 최적 위치 선정 (중복 없이 최적 위치 인덱스 추출)\\noptimal_indices_100m = np.unique(col_ind_100m)\\noptimal_selection_100m = top_locations_per_cluster.iloc[optimal_indices_100m]\\n\\n# 최적 위치의 상세 정보 출력\\noptimal_selection_100m[['id', 'centroid_x', 'centroid_y', 'kmeans_label', '유동인구', '견인횟수', 'score']]\\n\""
      ]
     },
     "execution_count": 211,
     "metadata": {},
     "output_type": "execute_result"
    }
   ],
   "source": [
    "'''\n",
    "# 각 클러스터별 상위 15개 위치 선정\n",
    "top_locations_per_cluster = data.groupby('클러스터링').apply(lambda x: x.nlargest(15, 'score'))\n",
    "\n",
    "# 위치 데이터 추출\n",
    "positions = top_locations_per_cluster[['centroid_x', 'centroid_y']].to_numpy()\n",
    "\n",
    "# 거리 행렬 계산\n",
    "distance_matrix = cdist(positions, positions, metric='euclidean')\n",
    "\n",
    "# 거리 임곗값\n",
    "coverage_threshold_100m = 100  # 헥사곤 간의 거리를 반영해 100미터로 설정\n",
    "\n",
    "# 커버리지 행렬 생성 (1이면 해당 위치가 다른 위치를 커버)\n",
    "coverage_matrix_100m = (distance_matrix <= coverage_threshold_100m).astype(int)\n",
    "\n",
    "# 선형 할당 문제로 최적화 (헝가리안 알고리즘 사용, -1을 곱해 최대 커버리지를 추구)\n",
    "row_ind_100m, col_ind_100m = linear_sum_assignment(-coverage_matrix_100m)\n",
    "\n",
    "# 최적 위치 선정 (중복 없이 최적 위치 인덱스 추출)\n",
    "optimal_indices_100m = np.unique(col_ind_100m)\n",
    "optimal_selection_100m = top_locations_per_cluster.iloc[optimal_indices_100m]\n",
    "\n",
    "# 최적 위치의 상세 정보 출력\n",
    "optimal_selection_100m[['id', 'centroid_x', 'centroid_y', 'kmeans_label', '유동인구', '견인횟수', 'score']]\n",
    "'''"
   ]
  },
  {
   "cell_type": "code",
   "execution_count": null,
   "metadata": {},
   "outputs": [
    {
     "name": "stdout",
     "output_type": "stream",
     "text": [
      "        id     centroid_x    centroid_y  클러스터링        유동인구  견인횟수  \\\n",
      "1     1575  963184.792317  1.949185e+06      0  323.728395   1.0   \n",
      "10    1400  962924.984696  1.949635e+06      0    0.000000   3.0   \n",
      "12    1401  962924.984696  1.949535e+06      0    0.000000   0.0   \n",
      "14    1402  962924.984696  1.949435e+06      0    0.000000   0.0   \n",
      "21    1344  962838.382156  1.949485e+06      0    0.000000   0.0   \n",
      "...    ...            ...           ...    ...         ...   ...   \n",
      "489   1614  963271.394858  1.951035e+06      2    0.000000   0.0   \n",
      "1017  1623  963271.394858  1.950135e+06      3    0.000000   0.0   \n",
      "1019  1617  963271.394858  1.950735e+06      3    0.000000   0.0   \n",
      "1022  1628  963271.394858  1.949635e+06      3  479.462963   2.0   \n",
      "1024  1624  963271.394858  1.950035e+06      3    0.000000   0.0   \n",
      "\n",
      "      allocated_parking_spots  \n",
      "1                        24.0  \n",
      "10                       24.0  \n",
      "12                       24.0  \n",
      "14                       24.0  \n",
      "21                       24.0  \n",
      "...                       ...  \n",
      "489                       7.0  \n",
      "1017                      9.0  \n",
      "1019                      9.0  \n",
      "1022                      9.0  \n",
      "1024                      9.0  \n",
      "\n",
      "[98 rows x 7 columns]\n"
     ]
    }
   ],
   "source": [
    "# 전체 할당된 주차장 수\n",
    "total_spots = relevant_locations['allocated_parking_spots'].sum()\n",
    "\n",
    "# 클러스터별 할당된 주차장 수\n",
    "cluster_allocation_counts = relevant_locations.groupby('클러스터링')['allocated_parking_spots'].sum()\n",
    "\n",
    "# 클러스터별 할당된 주차장 수 비율에 따라 각 클러스터에서 선택할 데이터 수 계산\n",
    "cluster_select_counts = (cluster_allocation_counts / total_spots * 100).astype(int)\n",
    "\n",
    "# 각 클러스터에서 비율에 맞게 상위 위치 선택\n",
    "def select_top_by_cluster(df, cluster_counts):\n",
    "    result = pd.DataFrame()\n",
    "    for cluster, count in cluster_counts.items():\n",
    "        top_spots = df[df['클러스터링'] == cluster].nlargest(count, 'allocated_parking_spots')\n",
    "        result = pd.concat([result, top_spots], axis=0)\n",
    "    return result\n",
    "\n",
    "top_300_locations = select_top_by_cluster(relevant_locations, cluster_select_counts)\n",
    "\n",
    "# 좌표 기반 거리 행렬 계산\n",
    "positions = top_300_locations[['centroid_x', 'centroid_y']].to_numpy()\n",
    "distance_matrix = cdist(positions, positions, metric='euclidean')\n",
    "\n",
    "# 100미터 이내 커버리지 행렬 생성\n",
    "coverage_threshold_100m = 100\n",
    "coverage_matrix_100m = (distance_matrix <= coverage_threshold_100m).astype(int)\n",
    "\n",
    "# 선형 할당 문제 해결\n",
    "row_ind_100m, col_ind_100m = linear_sum_assignment(-coverage_matrix_100m)\n",
    "optimal_indices_100m = np.unique(col_ind_100m)\n",
    "\n",
    "# 최적 위치 선택\n",
    "optimal_selection_100m = top_300_locations.iloc[optimal_indices_100m]\n",
    "\n",
    "# 선택된 위치의 상세 정보 출력 및 저장\n",
    "optimal_selection_details = optimal_selection_100m[['id', 'centroid_x', 'centroid_y', '클러스터링', '유동인구', '견인횟수', 'allocated_parking_spots']]\n",
    "print(optimal_selection_details)\n",
    "optimal_selection_details.to_csv('optimal_selection_100m.csv')\n"
   ]
  },
  {
   "cell_type": "code",
   "execution_count": null,
   "metadata": {},
   "outputs": [
    {
     "data": {
      "text/plain": [
       "'\\n# 모든 위치와 그에 할당된 주차장 수를 사용\\ndef assign_spots(cluster_tow_pair, sub_df):\\n    # parking_vars에서 할당된 주차장 수 추출, 키가 없는 경우 0을 반환\\n    allocated_spots = parking_vars.get(cluster_tow_pair, pulp.LpVariable(\"default\", lowBound=0, upBound=0)).varValue\\n    sub_df[\\'allocated_parking_spots\\'] = allocated_spots\\n    return sub_df\\n\\n# 각 클러스터와 유동인구+견인횟수 조합에 대해 함수 적용\\nall_locations_with_allocations = data.groupby([\\'클러스터링\\', \\'유동인구+견인횟수\\']).apply(lambda x: assign_spots((x.name[0], x.name[1]), x))\\n\\n# 할당된 주차장 수가 0보다 큰 위치만 선택\\nrelevant_locations = all_locations_with_allocations[all_locations_with_allocations[\\'allocated_parking_spots\\'] > 0]\\n\\n\\n# 좌표 기반 거리 행렬 계산\\nfrom scipy.spatial.distance import cdist\\npositions = relevant_locations[[\\'centroid_x\\', \\'centroid_y\\']].to_numpy()\\ndistance_matrix = cdist(positions, positions, metric=\\'euclidean\\')\\n\\n# 100미터 이내 커버리지 행렬 생성\\ncoverage_threshold_100m = 100\\ncoverage_matrix_100m = (distance_matrix <= coverage_threshold_100m).astype(int)\\n\\n# 선형 할당 문제 해결\\nfrom scipy.optimize import linear_sum_assignment\\nrow_ind_100m, col_ind_100m = linear_sum_assignment(-coverage_matrix_100m)\\noptimal_indices_100m = np.unique(col_ind_100m)\\n\\n# 최적 위치 선택\\noptimal_selection_100m = relevant_locations.iloc[optimal_indices_100m]\\n\\n# 선택된 위치의 상세 정보 출력 및 저장\\noptimal_selection_details = optimal_selection_100m[[\\'id\\', \\'centroid_x\\', \\'centroid_y\\', \\'클러스터링\\', \\'유동인구\\', \\'견인횟수\\', \\'allocated_parking_spots\\']]\\nprint(optimal_selection_details)\\noptimal_selection_details.to_csv(\\'optimal_selection_100m.csv\\')\\n'"
      ]
     },
     "execution_count": 213,
     "metadata": {},
     "output_type": "execute_result"
    }
   ],
   "source": [
    "'''\n",
    "# 모든 위치와 그에 할당된 주차장 수를 사용\n",
    "def assign_spots(cluster_tow_pair, sub_df):\n",
    "    # parking_vars에서 할당된 주차장 수 추출, 키가 없는 경우 0을 반환\n",
    "    allocated_spots = parking_vars.get(cluster_tow_pair, pulp.LpVariable(\"default\", lowBound=0, upBound=0)).varValue\n",
    "    sub_df['allocated_parking_spots'] = allocated_spots\n",
    "    return sub_df\n",
    "\n",
    "# 각 클러스터와 유동인구+견인횟수 조합에 대해 함수 적용\n",
    "all_locations_with_allocations = data.groupby(['클러스터링', '유동인구+견인횟수']).apply(lambda x: assign_spots((x.name[0], x.name[1]), x))\n",
    "\n",
    "# 할당된 주차장 수가 0보다 큰 위치만 선택\n",
    "relevant_locations = all_locations_with_allocations[all_locations_with_allocations['allocated_parking_spots'] > 0]\n",
    "\n",
    "\n",
    "# 좌표 기반 거리 행렬 계산\n",
    "from scipy.spatial.distance import cdist\n",
    "positions = relevant_locations[['centroid_x', 'centroid_y']].to_numpy()\n",
    "distance_matrix = cdist(positions, positions, metric='euclidean')\n",
    "\n",
    "# 100미터 이내 커버리지 행렬 생성\n",
    "coverage_threshold_100m = 100\n",
    "coverage_matrix_100m = (distance_matrix <= coverage_threshold_100m).astype(int)\n",
    "\n",
    "# 선형 할당 문제 해결\n",
    "from scipy.optimize import linear_sum_assignment\n",
    "row_ind_100m, col_ind_100m = linear_sum_assignment(-coverage_matrix_100m)\n",
    "optimal_indices_100m = np.unique(col_ind_100m)\n",
    "\n",
    "# 최적 위치 선택\n",
    "optimal_selection_100m = relevant_locations.iloc[optimal_indices_100m]\n",
    "\n",
    "# 선택된 위치의 상세 정보 출력 및 저장\n",
    "optimal_selection_details = optimal_selection_100m[['id', 'centroid_x', 'centroid_y', '클러스터링', '유동인구', '견인횟수', 'allocated_parking_spots']]\n",
    "print(optimal_selection_details)\n",
    "optimal_selection_details.to_csv('optimal_selection_100m.csv')\n",
    "'''"
   ]
  },
  {
   "cell_type": "code",
   "execution_count": null,
   "metadata": {},
   "outputs": [
    {
     "data": {
      "text/plain": [
       "\"\\n# 주차장 할당 결과에 따른 top 위치 선정\\ntop_locations_per_cluster = data.groupby('클러스터링').apply(lambda x: x.nlargest(15, '할당된_주차장_수'))\\n\\n# 좌표 기반 거리 행렬 계산\\nfrom scipy.spatial.distance import cdist\\npositions = top_locations_per_cluster[['centroid_x', 'centroid_y']].to_numpy()\\ndistance_matrix = cdist(positions, positions, metric='euclidean')\\n\\n# 100미터 이내 커버리지 행렬 생성\\ncoverage_threshold_100m = 100\\ncoverage_matrix_100m = (distance_matrix <= coverage_threshold_100m).astype(int)\\n\\n# 선형 할당 문제 해결\\nfrom scipy.optimize import linear_sum_assignment\\nrow_ind_100m, col_ind_100m = linear_sum_assignment(-coverage_matrix_100m)\\noptimal_indices_100m = np.unique(col_ind_100m)\\n\\n# 최적 위치 선택\\noptimal_selection_100m = top_locations_per_cluster.iloc[optimal_indices_100m]\\n\\n# 선택된 위치의 상세 정보 출력 및 저장\\noptimal_selection_details = optimal_selection_100m[['id', 'centroid_x', 'centroid_y', '클러스터링', '유동인구', '견인횟수', '할당된_주차장_수']]\\nprint(optimal_selection_details)\\noptimal_selection_details.to_csv('optimal_selection_100m.csv')\\n\""
      ]
     },
     "execution_count": 214,
     "metadata": {},
     "output_type": "execute_result"
    }
   ],
   "source": [
    "'''\n",
    "# 주차장 할당 결과에 따른 top 위치 선정\n",
    "top_locations_per_cluster = data.groupby('클러스터링').apply(lambda x: x.nlargest(15, '할당된_주차장_수'))\n",
    "\n",
    "# 좌표 기반 거리 행렬 계산\n",
    "from scipy.spatial.distance import cdist\n",
    "positions = top_locations_per_cluster[['centroid_x', 'centroid_y']].to_numpy()\n",
    "distance_matrix = cdist(positions, positions, metric='euclidean')\n",
    "\n",
    "# 100미터 이내 커버리지 행렬 생성\n",
    "coverage_threshold_100m = 100\n",
    "coverage_matrix_100m = (distance_matrix <= coverage_threshold_100m).astype(int)\n",
    "\n",
    "# 선형 할당 문제 해결\n",
    "from scipy.optimize import linear_sum_assignment\n",
    "row_ind_100m, col_ind_100m = linear_sum_assignment(-coverage_matrix_100m)\n",
    "optimal_indices_100m = np.unique(col_ind_100m)\n",
    "\n",
    "# 최적 위치 선택\n",
    "optimal_selection_100m = top_locations_per_cluster.iloc[optimal_indices_100m]\n",
    "\n",
    "# 선택된 위치의 상세 정보 출력 및 저장\n",
    "optimal_selection_details = optimal_selection_100m[['id', 'centroid_x', 'centroid_y', '클러스터링', '유동인구', '견인횟수', '할당된_주차장_수']]\n",
    "print(optimal_selection_details)\n",
    "optimal_selection_details.to_csv('optimal_selection_100m.csv')\n",
    "'''"
   ]
  },
  {
   "cell_type": "code",
   "execution_count": null,
   "metadata": {},
   "outputs": [
    {
     "name": "stderr",
     "output_type": "stream",
     "text": [
      "/Users/donggunhan/Documents/Visual Studio Code/.venv/lib/python3.11/site-packages/pyproj/crs/crs.py:141: FutureWarning:\n",
      "\n",
      "'+init=<authority>:<code>' syntax is deprecated. '<authority>:<code>' is the preferred initialization method. When making the change, be mindful of axis order changes: https://pyproj4.github.io/pyproj/stable/gotchas.html#axis-order-changes-in-proj-6\n",
      "\n",
      "/Users/donggunhan/Documents/Visual Studio Code/.venv/lib/python3.11/site-packages/pyproj/crs/crs.py:141: FutureWarning:\n",
      "\n",
      "'+init=<authority>:<code>' syntax is deprecated. '<authority>:<code>' is the preferred initialization method. When making the change, be mindful of axis order changes: https://pyproj4.github.io/pyproj/stable/gotchas.html#axis-order-changes-in-proj-6\n",
      "\n",
      "/var/folders/d1/k8w7ydl912db_c31zskh1q700000gn/T/ipykernel_44387/140815338.py:9: FutureWarning:\n",
      "\n",
      "This function is deprecated. See: https://pyproj4.github.io/pyproj/stable/gotchas.html#upgrading-to-pyproj-2-from-pyproj-1\n",
      "\n"
     ]
    },
    {
     "name": "stdout",
     "output_type": "stream",
     "text": [
      "             lat        lon\n",
      "1     127.083263  37.541255\n",
      "10    127.080300  37.545301\n",
      "12    127.080305  37.544400\n",
      "14    127.080310  37.543498\n",
      "21    127.079327  37.543945\n",
      "...          ...        ...\n",
      "489   127.084151  37.557934\n",
      "1017  127.084196  37.549822\n",
      "1019  127.084166  37.555230\n",
      "1022  127.084221  37.545315\n",
      "1024  127.084201  37.548920\n",
      "\n",
      "[98 rows x 2 columns]\n"
     ]
    },
    {
     "name": "stderr",
     "output_type": "stream",
     "text": [
      "/var/folders/d1/k8w7ydl912db_c31zskh1q700000gn/T/ipykernel_44387/140815338.py:13: SettingWithCopyWarning:\n",
      "\n",
      "\n",
      "A value is trying to be set on a copy of a slice from a DataFrame.\n",
      "Try using .loc[row_indexer,col_indexer] = value instead\n",
      "\n",
      "See the caveats in the documentation: https://pandas.pydata.org/pandas-docs/stable/user_guide/indexing.html#returning-a-view-versus-a-copy\n",
      "\n",
      "/var/folders/d1/k8w7ydl912db_c31zskh1q700000gn/T/ipykernel_44387/140815338.py:13: SettingWithCopyWarning:\n",
      "\n",
      "\n",
      "A value is trying to be set on a copy of a slice from a DataFrame.\n",
      "Try using .loc[row_indexer,col_indexer] = value instead\n",
      "\n",
      "See the caveats in the documentation: https://pandas.pydata.org/pandas-docs/stable/user_guide/indexing.html#returning-a-view-versus-a-copy\n",
      "\n"
     ]
    }
   ],
   "source": [
    "# 원본 좌표 시스템 정의 (UTM 좌표)\n",
    "original_crs = Proj(init='epsg:5179')  # UTM-K 좌표계 (한국)\n",
    "\n",
    "# 변환할 좌표 시스템 정의 (WGS84, 위경도)\n",
    "target_crs = Proj(init='epsg:4326')  # WGS84 좌표계 (위경도)\n",
    "\n",
    "# 좌표 변환 함수\n",
    "def convert_coordinates(x, y):\n",
    "    lon, lat = transform(original_crs, target_crs, x, y)\n",
    "    return lat, lon\n",
    "\n",
    "# 'X'와 'Y' 좌표를 UTM-K 좌표계에서 WGS84 좌표계로 변환\n",
    "optimal_selection_details['lon'], optimal_selection_details['lat'] = zip(*optimal_selection_details.apply(lambda row: convert_coordinates(row['centroid_x'], row['centroid_y']), axis=1))\n",
    "\n",
    "# 변환된 위도(latitude)와 경도(longitude) 출력\n",
    "print(optimal_selection_details[['lat', 'lon']])"
   ]
  },
  {
   "cell_type": "code",
   "execution_count": null,
   "metadata": {},
   "outputs": [
    {
     "name": "stdout",
     "output_type": "stream",
     "text": [
      "클러스터별 배치된 개수:\n",
      "0    51\n",
      "1    39\n",
      "2     4\n",
      "3     4\n",
      "Name: 클러스터링, dtype: int64\n"
     ]
    }
   ],
   "source": [
    "\n",
    "# 클러스터링 열을 기준으로 각 클러스터별로 개수 계산\n",
    "cluster_counts = optimal_selection_details['클러스터링'].value_counts()\n",
    "\n",
    "# 결과 출력\n",
    "print(\"클러스터별 배치된 개수:\")\n",
    "print(cluster_counts)"
   ]
  },
  {
   "cell_type": "code",
   "execution_count": null,
   "metadata": {},
   "outputs": [],
   "source": [
    "optimal_selection_details.to_csv('optimal_selection_details.csv')"
   ]
  },
  {
   "cell_type": "code",
   "execution_count": null,
   "metadata": {},
   "outputs": [],
   "source": []
  }
 ],
 "metadata": {
  "kernelspec": {
   "display_name": ".venv",
   "language": "python",
   "name": "python3"
  },
  "language_info": {
   "codemirror_mode": {
    "name": "ipython",
    "version": 3
   },
   "file_extension": ".py",
   "mimetype": "text/x-python",
   "name": "python",
   "nbconvert_exporter": "python",
   "pygments_lexer": "ipython3",
   "version": "3.11.5"
  }
 },
 "nbformat": 4,
 "nbformat_minor": 2
}
