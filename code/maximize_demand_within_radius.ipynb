{
 "cells": [
  {
   "cell_type": "markdown",
   "metadata": {},
   "source": [
    "### 0. Library"
   ]
  },
  {
   "cell_type": "code",
   "execution_count": 200,
   "metadata": {},
   "outputs": [],
   "source": [
    "import pandas as pd\n",
    "import numpy as np\n",
    "from pyproj import Proj, transform\n",
    "import math"
   ]
  },
  {
   "cell_type": "markdown",
   "metadata": {},
   "source": [
    "### 1. Data"
   ]
  },
  {
   "cell_type": "code",
   "execution_count": null,
   "metadata": {},
   "outputs": [],
   "source": [
    "path = \"C:\\\\Users\\\\SOHYEUN\\\\Desktop\\\\BOAZ_광진구\\\\광진구_최종\\\\\"\n",
    "\n",
    "center = pd.read_csv(path + \"center.csv\")\n",
    "park = pd.read_csv(path + \"park.csv\", encoding='cp949')"
   ]
  },
  {
   "cell_type": "markdown",
   "metadata": {},
   "source": [
    "### 2. Data Preprocessing"
   ]
  },
  {
   "cell_type": "code",
   "execution_count": null,
   "metadata": {},
   "outputs": [],
   "source": [
    "# Calculate the center of the hexagon by averaging the left-right and bottom-top values\n",
    "center['X'] = (center['left'] + center['right']) / 2\n",
    "center['Y'] = (center['bottom'] + center['top']) / 2\n",
    "center.drop(columns=['left', 'right', 'bottom', 'top', '최종_레이블_결과(2)_행정동', '최종_레이블_결과(2)_클러스터링', \n",
    "                '최종_레이블_결과(2)_유동인구', '최종_레이블_결과(2)_견인횟수', '최종_레이블_결과(2)_유동인구_레이블', '최종_레이블_결과(2)_견인횟수_레이블'], inplace=True)\n",
    "center.dropna(inplace=True)\n",
    "center.reset_index(drop=True, inplace=True)\n",
    "center.head()"
   ]
  },
  {
   "cell_type": "code",
   "execution_count": null,
   "metadata": {},
   "outputs": [
    {
     "name": "stderr",
     "output_type": "stream",
     "text": [
      "c:\\Users\\SOHYEUN\\AppData\\Local\\Programs\\Python\\Python38\\lib\\site-packages\\pyproj\\crs\\crs.py:141: FutureWarning: '+init=<authority>:<code>' syntax is deprecated. '<authority>:<code>' is the preferred initialization method. When making the change, be mindful of axis order changes: https://pyproj4.github.io/pyproj/stable/gotchas.html#axis-order-changes-in-proj-6\n",
      "  in_crs_string = _prepare_from_proj_string(in_crs_string)\n",
      "c:\\Users\\SOHYEUN\\AppData\\Local\\Programs\\Python\\Python38\\lib\\site-packages\\pyproj\\crs\\crs.py:141: FutureWarning: '+init=<authority>:<code>' syntax is deprecated. '<authority>:<code>' is the preferred initialization method. When making the change, be mindful of axis order changes: https://pyproj4.github.io/pyproj/stable/gotchas.html#axis-order-changes-in-proj-6\n",
      "  in_crs_string = _prepare_from_proj_string(in_crs_string)\n",
      "C:\\Users\\SOHYEUN\\AppData\\Local\\Temp\\ipykernel_23560\\3619445213.py:9: FutureWarning: This function is deprecated. See: https://pyproj4.github.io/pyproj/stable/gotchas.html#upgrading-to-pyproj-2-from-pyproj-1\n",
      "  lon, lat = transform(original_crs, target_crs, x, y)\n"
     ]
    },
    {
     "data": {
      "text/html": [
       "<div>\n",
       "<style scoped>\n",
       "    .dataframe tbody tr th:only-of-type {\n",
       "        vertical-align: middle;\n",
       "    }\n",
       "\n",
       "    .dataframe tbody tr th {\n",
       "        vertical-align: top;\n",
       "    }\n",
       "\n",
       "    .dataframe thead th {\n",
       "        text-align: right;\n",
       "    }\n",
       "</style>\n",
       "<table border=\"1\" class=\"dataframe\">\n",
       "  <thead>\n",
       "    <tr style=\"text-align: right;\">\n",
       "      <th></th>\n",
       "      <th>id</th>\n",
       "      <th>유동인구+견인횟수</th>\n",
       "      <th>위도</th>\n",
       "      <th>경도</th>\n",
       "    </tr>\n",
       "  </thead>\n",
       "  <tbody>\n",
       "    <tr>\n",
       "      <th>0</th>\n",
       "      <td>3110</td>\n",
       "      <td>4.0</td>\n",
       "      <td>37.545402</td>\n",
       "      <td>127.109710</td>\n",
       "    </tr>\n",
       "    <tr>\n",
       "      <th>1</th>\n",
       "      <td>3111</td>\n",
       "      <td>4.0</td>\n",
       "      <td>37.544500</td>\n",
       "      <td>127.109715</td>\n",
       "    </tr>\n",
       "    <tr>\n",
       "      <th>2</th>\n",
       "      <td>3112</td>\n",
       "      <td>4.0</td>\n",
       "      <td>37.543599</td>\n",
       "      <td>127.109719</td>\n",
       "    </tr>\n",
       "    <tr>\n",
       "      <th>3</th>\n",
       "      <td>2940</td>\n",
       "      <td>4.0</td>\n",
       "      <td>37.544040</td>\n",
       "      <td>127.106776</td>\n",
       "    </tr>\n",
       "    <tr>\n",
       "      <th>4</th>\n",
       "      <td>2941</td>\n",
       "      <td>4.0</td>\n",
       "      <td>37.543139</td>\n",
       "      <td>127.106781</td>\n",
       "    </tr>\n",
       "  </tbody>\n",
       "</table>\n",
       "</div>"
      ],
      "text/plain": [
       "     id  유동인구+견인횟수         위도          경도\n",
       "0  3110        4.0  37.545402  127.109710\n",
       "1  3111        4.0  37.544500  127.109715\n",
       "2  3112        4.0  37.543599  127.109719\n",
       "3  2940        4.0  37.544040  127.106776\n",
       "4  2941        4.0  37.543139  127.106781"
      ]
     },
     "execution_count": 203,
     "metadata": {},
     "output_type": "execute_result"
    }
   ],
   "source": [
    "# Coordinate transformation (UTM-K to WGS84)\n",
    "original_crs = Proj(init='epsg:5179')  # UTM-K\n",
    "target_crs = Proj(init='epsg:4326')  # WGS84\n",
    "\n",
    "def convert_coordinates(x, y):\n",
    "    lon, lat = transform(original_crs, target_crs, x, y)\n",
    "    return lat, lon\n",
    "\n",
    "center['경도'], center['위도'] = zip(*center.apply(lambda row: convert_coordinates(row['X'], row['Y']), axis=1))\n",
    "center.drop(columns=['row_index', 'col_index', 'X', 'Y'], inplace=True)\n",
    "center.rename(columns={'최종_레이블_결과(2)_유동인구+견인횟수': '유동인구+견인횟수', '위도': '경도', '경도': '위도'}, inplace=True)\n",
    "center.head()"
   ]
  },
  {
   "cell_type": "markdown",
   "metadata": {},
   "source": [
    "### 3. Data Analysis"
   ]
  },
  {
   "cell_type": "code",
   "execution_count": null,
   "metadata": {},
   "outputs": [],
   "source": [
    "# Function to calculate the Haversine distance between two points (latitude, longitude)\n",
    "def haversine_distance(lat1, lon1, lat2, lon2):\n",
    "\n",
    "    lat1, lon1, lat2, lon2 = map(math.radians, [lat1, lon1, lat2, lon2])\n",
    "\n",
    "    dlon = lon2 - lon1 \n",
    "    dlat = lat2 - lat1 \n",
    "    a = math.sin(dlat/2)**2 + math.cos(lat1) * math.cos(lat2) * math.sin(dlon/2)**2\n",
    "    c = 2 * math.atan2(math.sqrt(a), math.sqrt(1-a))\n",
    "    r = 6371\n",
    "    \n",
    "    return r * c * 1000 \n",
    "\n",
    "# Function to calculate the distances from a given center to all parks\n",
    "def calculate_distances(center_lat, center_lon, park_df):\n",
    "    distances = []\n",
    "    \n",
    "    for i, park_row in park_df.iterrows():\n",
    "        park_lat = park_row['위도']\n",
    "        park_lon = park_row['경도']\n",
    "        distance = haversine_distance(center_lat, center_lon, park_lat, park_lon)\n",
    "        distances.append(distance)\n",
    "    \n",
    "    return distances\n",
    "\n",
    "center['park_distances'] = center.apply(lambda row: calculate_distances(row['위도'], row['경도'], park), axis=1)"
   ]
  },
  {
   "cell_type": "code",
   "execution_count": null,
   "metadata": {},
   "outputs": [],
   "source": [
    "# Function to count how many distances are within 200 meters\n",
    "def count_distances_within_200m(distances):\n",
    "    return sum(distance < 200 for distance in distances)\n",
    "\n",
    "center['count_within_200m'] = center['park_distances'].apply(count_distances_within_200m)"
   ]
  },
  {
   "cell_type": "code",
   "execution_count": null,
   "metadata": {},
   "outputs": [
    {
     "data": {
      "text/plain": [
       "0     647\n",
       "1     205\n",
       "2     105\n",
       "3      86\n",
       "4      54\n",
       "5      58\n",
       "6      23\n",
       "7      29\n",
       "8      23\n",
       "9      27\n",
       "10      9\n",
       "11      2\n",
       "12      3\n",
       "13      6\n",
       "14      1\n",
       "15      2\n",
       "16      3\n",
       "17      1\n",
       "18      1\n",
       "20      1\n",
       "21      1\n",
       "Name: count_within_200m, dtype: int64"
      ]
     },
     "execution_count": 207,
     "metadata": {},
     "output_type": "execute_result"
    }
   ],
   "source": [
    "# Count the occurrences of each value in the 'count_within_200m' column and sort the result by index\n",
    "center['count_within_200m'].value_counts().sort_index()"
   ]
  },
  {
   "cell_type": "code",
   "execution_count": null,
   "metadata": {},
   "outputs": [],
   "source": [
    "# Priority mapping based on the number of parks within 200 meters\n",
    "priority_mapping = {\n",
    "    21: 1, 20: 2, 18: 3, 17: 4, 16: 5, 15: 6, 14: 7, 13: 8,\n",
    "    12: 9, 11: 10, 10: 11, 9: 12, 8: 13, 7: 14, 6: 15, 5: 16,\n",
    "    4: 17, 3: 18, 2: 19, 1: 20, 0: 21\n",
    "}\n",
    "\n",
    "center['priority'] = center['count_within_200m'].map(priority_mapping)"
   ]
  },
  {
   "cell_type": "code",
   "execution_count": null,
   "metadata": {},
   "outputs": [
    {
     "data": {
      "text/plain": [
       "1        1\n",
       "8        1\n",
       "11       2\n",
       "12       2\n",
       "13       1\n",
       "15       2\n",
       "16       3\n",
       "17       2\n",
       "19       2\n",
       "20       7\n",
       "21      16\n",
       "99    1248\n",
       "Name: priority, dtype: int64"
      ]
     },
     "execution_count": 210,
     "metadata": {},
     "output_type": "execute_result"
    }
   ],
   "source": [
    "# Sort the 'center' DataFrame by the 'priority' column in descending order\n",
    "center_sorted = center.sort_values(by='priority', ascending=True)\n",
    "\n",
    "# Update the 'priority' column to 99 if the distance between the current row and any previous row is less than 200 meters\n",
    "for i in range(len(center_sorted)):\n",
    "    lat1 = center_sorted.iloc[i]['위도']\n",
    "    lon1 = center_sorted.iloc[i]['경도']\n",
    "    for j in range(i):\n",
    "        lat2 = center_sorted.iloc[j]['위도']\n",
    "        lon2 = center_sorted.iloc[j]['경도']\n",
    "        if haversine_distance(lat1, lon1, lat2, lon2) < 200:\n",
    "            center_sorted.at[center_sorted.index[i], 'priority'] = 99\n",
    "            break\n",
    "\n",
    "center_sorted = center_sorted.sort_values(by='priority', ascending=True)\n",
    "center_sorted['priority'].value_counts().sort_index()"
   ]
  },
  {
   "cell_type": "markdown",
   "metadata": {},
   "source": [
    "### 4. Result"
   ]
  },
  {
   "cell_type": "code",
   "execution_count": null,
   "metadata": {},
   "outputs": [],
   "source": [
    "center.to_csv(path + \"maximize_demand_within_radius.csv\", index=False)\n",
    "center_sorted.to_csv(path + \"maximize_demand_within_radius_2.csv\", index=False)"
   ]
  }
 ],
 "metadata": {
  "kernelspec": {
   "display_name": "Python 3",
   "language": "python",
   "name": "python3"
  },
  "language_info": {
   "codemirror_mode": {
    "name": "ipython",
    "version": 3
   },
   "file_extension": ".py",
   "mimetype": "text/x-python",
   "name": "python",
   "nbconvert_exporter": "python",
   "pygments_lexer": "ipython3",
   "version": "3.8.5"
  }
 },
 "nbformat": 4,
 "nbformat_minor": 2
}
